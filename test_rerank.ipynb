{
 "cells": [
  {
   "cell_type": "code",
   "execution_count": 1,
   "id": "initial_id",
   "metadata": {
    "collapsed": true,
    "ExecuteTime": {
     "end_time": "2023-09-26T04:13:14.358617Z",
     "start_time": "2023-09-26T04:11:16.244864Z"
    }
   },
   "outputs": [
    {
     "name": "stdout",
     "output_type": "stream",
     "text": [
      "Warning: No GPU found. Please add GPU to your notebook\n",
      "Using MPS\n"
     ]
    },
    {
     "name": "stderr",
     "output_type": "stream",
     "text": [
      "2023-09-26 00:11:17.300 python[42211:1501179] apply_selection_policy_once: avoid use of removable GPUs (via (null):GPUSelectionPolicy->avoidRemovable)\n"
     ]
    },
    {
     "name": "stdout",
     "output_type": "stream",
     "text": [
      "Passages: 169597\n"
     ]
    },
    {
     "data": {
      "text/plain": "Batches:   0%|          | 0/1325 [00:00<?, ?it/s]",
      "application/vnd.jupyter.widget-view+json": {
       "version_major": 2,
       "version_minor": 0,
       "model_id": "a681d09bd4af4fddbf3b41f250245b1b"
      }
     },
     "metadata": {},
     "output_type": "display_data"
    },
    {
     "name": "stdout",
     "output_type": "stream",
     "text": [
      "done\n"
     ]
    }
   ],
   "source": [
    "import json\n",
    "from sentence_transformers import SentenceTransformer, CrossEncoder, util\n",
    "import gzip\n",
    "import os\n",
    "import torch\n",
    "\n",
    "if not torch.cuda.is_available():\n",
    "    print(\"Warning: No GPU found. Please add GPU to your notebook\")\n",
    "if torch.backends.mps.is_available():\n",
    "    mps_device = torch.device(\"mps\")\n",
    "    print(\"Using MPS\")\n",
    "\n",
    "bi_encoder = SentenceTransformer('multi-qa-MiniLM-L6-cos-v1')\n",
    "bi_encoder.max_seq_length = 256     #Truncate long passages to 256 tokens\n",
    "top_k = 32                          #Number of passages we want to retrieve with the bi-encoder\n",
    "\n",
    "cross_encoder = CrossEncoder('cross-encoder/ms-marco-MiniLM-L-6-v2')\n",
    "\n",
    "wikipedia_filepath = 'simplewiki-2020-11-01.jsonl.gz'\n",
    "\n",
    "if not os.path.exists(wikipedia_filepath):\n",
    "    util.http_get('http://sbert.net/datasets/simplewiki-2020-11-01.jsonl.gz', wikipedia_filepath)\n",
    "\n",
    "passages = []\n",
    "with gzip.open(wikipedia_filepath, 'rt', encoding='utf8') as fIn:\n",
    "    for line in fIn:\n",
    "        data = json.loads(line.strip())\n",
    "\n",
    "        #Add all paragraphs\n",
    "        #passages.extend(data['paragraphs'])\n",
    "\n",
    "        #Only add the first paragraph\n",
    "        passages.append(data['paragraphs'][0])\n",
    "\n",
    "print(\"Passages:\", len(passages))\n",
    "\n",
    "# We encode all passages into our vector space. This takes about 5 minutes (depends on your GPU speed)\n",
    "corpus_embeddings = bi_encoder.encode(passages, batch_size=128, show_progress_bar=True, device=mps_device)\n",
    "\n",
    "print('done')"
   ]
  },
  {
   "cell_type": "code",
   "execution_count": 2,
   "outputs": [
    {
     "data": {
      "text/plain": "  0%|          | 0/169597 [00:00<?, ?it/s]",
      "application/vnd.jupyter.widget-view+json": {
       "version_major": 2,
       "version_minor": 0,
       "model_id": "479b8498635a48248b2c29dfd7d21f15"
      }
     },
     "metadata": {},
     "output_type": "display_data"
    }
   ],
   "source": [
    "# We also compare the results to lexical search (keyword search). Here, we use\n",
    "# the BM25 algorithm which is implemented in the rank_bm25 package.\n",
    "\n",
    "from rank_bm25 import BM25Okapi\n",
    "from sklearn.feature_extraction import _stop_words\n",
    "import string\n",
    "from tqdm.autonotebook import tqdm\n",
    "import numpy as np\n",
    "\n",
    "\n",
    "# We lower case our text and remove stop-words from indexing\n",
    "def bm25_tokenizer(text):\n",
    "    tokenized_doc = []\n",
    "    for token in text.lower().split():\n",
    "        token = token.strip(string.punctuation)\n",
    "        if len(token) > 0 and token not in _stop_words.ENGLISH_STOP_WORDS:\n",
    "            tokenized_doc.append(token)\n",
    "    return tokenized_doc\n",
    "\n",
    "\n",
    "tokenized_corpus = []\n",
    "for passage in tqdm(passages):\n",
    "    tokenized_corpus.append(bm25_tokenizer(passage))\n",
    "\n",
    "bm25 = BM25Okapi(tokenized_corpus)"
   ],
   "metadata": {
    "collapsed": false,
    "ExecuteTime": {
     "end_time": "2023-09-26T04:13:39.236727Z",
     "start_time": "2023-09-26T04:13:36.861943Z"
    }
   },
   "id": "12e98945d807f848"
  },
  {
   "cell_type": "code",
   "execution_count": 7,
   "outputs": [],
   "source": [
    "# This function will search all wikipedia articles for passages that\n",
    "# answer the query\n",
    "def search(query):\n",
    "    print(\"Input question:\", query)\n",
    "\n",
    "    ##### BM25 search (lexical search) #####\n",
    "    bm25_scores = bm25.get_scores(bm25_tokenizer(query))\n",
    "    top_n = np.argpartition(bm25_scores, -5)[-5:]\n",
    "    bm25_hits = [{'corpus_id': idx, 'score': bm25_scores[idx]} for idx in top_n]\n",
    "    bm25_hits = sorted(bm25_hits, key=lambda x: x['score'], reverse=True)\n",
    "    \n",
    "    print(\"Top-3 lexical search (BM25) hits\")\n",
    "    for hit in bm25_hits[0:3]:\n",
    "        print(\"\\t{:.3f}\\t{}\".format(hit['score'], passages[hit['corpus_id']].replace(\"\\n\", \" \")))\n",
    "\n",
    "    ##### Sematic Search #####\n",
    "    # Encode the query using the bi-encoder and find potentially relevant passages\n",
    "    question_embedding = bi_encoder.encode(query, device=mps_device)\n",
    "    hits = util.semantic_search(question_embedding, corpus_embeddings, top_k=top_k)\n",
    "    hits = hits[0]  # Get the hits for the first query\n",
    "\n",
    "    ##### Re-Ranking #####\n",
    "    # Now, score all retrieved passages with the cross_encoder\n",
    "    cross_inp = [[query, passages[hit['corpus_id']]] for hit in hits]\n",
    "    cross_scores = cross_encoder.predict(cross_inp)\n",
    "\n",
    "    # Sort results by the cross-encoder scores\n",
    "    for idx in range(len(cross_scores)):\n",
    "        hits[idx]['cross-score'] = cross_scores[idx]\n",
    "\n",
    "    # Output of top-5 hits from bi-encoder\n",
    "    print(\"\\n-------------------------\\n\")\n",
    "    print(\"Top-3 Bi-Encoder Retrieval hits\")\n",
    "    hits = sorted(hits, key=lambda x: x['score'], reverse=True)\n",
    "    for hit in hits[0:3]:\n",
    "        print(\"\\t{:.3f}\\t{}\".format(hit['score'], passages[hit['corpus_id']].replace(\"\\n\", \" \")))\n",
    "\n",
    "    # Output of top-5 hits from re-ranker\n",
    "    print(\"\\n-------------------------\\n\")\n",
    "    print(\"Top-3 Cross-Encoder Re-ranker hits\")\n",
    "    hits = sorted(hits, key=lambda x: x['cross-score'], reverse=True)\n",
    "    for hit in hits[0:3]:\n",
    "        print(\"\\t{:.3f}\\t{}\".format(hit['cross-score'], passages[hit['corpus_id']].replace(\"\\n\", \" \")))\n"
   ],
   "metadata": {
    "collapsed": false,
    "ExecuteTime": {
     "end_time": "2023-09-26T04:15:52.627398Z",
     "start_time": "2023-09-26T04:15:52.615374Z"
    }
   },
   "id": "ddd2108c1a6dfb"
  },
  {
   "cell_type": "code",
   "execution_count": 8,
   "outputs": [
    {
     "name": "stdout",
     "output_type": "stream",
     "text": [
      "Input question: Who is the half-blood prince?\n",
      "Top-3 lexical search (BM25) hits\n",
      "\t17.182\tHarry Potter and the Half-Blood Prince was written by J. K. Rowling and published on 16 July 2005. The book is the sixth Harry Potter book.\n",
      "\t12.445\tFrank Stephenson Dillane (born 21 April 1991) is an English actor. He is known for his role as Nick Clark in the AMC series \"Fear the Walking Dead\" (2015–2018). His movie roles include Tom Riddle in \"Harry Potter and the Half-Blood Prince\" (2009) and Owen Coffin in \"In the Heart of the Sea\" (2015).\n",
      "\t11.512\tThomas Andrew \"Tom\" Felton (born 22 September 1987) is an English actor and singer. Felton was born in Epsom, Surrey. He is best known for portraying the character Draco Malfoy in the Harry Potter movie series. Felton has also won a MTV Movie Award for \"Best Villain\" in the film version of Harry Potter and the Half-Blood Prince in 2010.\n",
      "\n",
      "-------------------------\n",
      "\n",
      "Top-3 Bi-Encoder Retrieval hits\n",
      "\t0.548\tPrince Daniel of Sweden, Duke of Västergötland (born Olof Daniel Westling on 15 September 1973), is the husband of Crown Princess Victoria. He was a personal trainer and gym owner and ran a company called Balance Training with three gyms in central Stockholm.\n",
      "\t0.536\tBhisadej Rajani (; ; born 20 January 1922) is a Prince of Thailand. He is a member of the Thai royal family, and a member of the House of Rajani. He is one of the longest-living royal personages in the Thai history.\n",
      "\t0.535\tA prince du sang (prince of the blood) was a member of the extended French Royal Family. This meant that all people except females that were princes of the blood would be entitled to inherit the throne only if every male member of the immediate royal family had died. The main princes of the blood were known as the Prince of Conti and the Prince of Condé as well as the more significant Duke of Orléans. The prince of the blood was entitled to be styled Serene Highness () but it was used in writing only. A majority of the princes of the blood had their own apartments at the Palace of Versailles as well as their own townhouses in Paris\n",
      "\n",
      "-------------------------\n",
      "\n",
      "Top-3 Cross-Encoder Re-ranker hits\n",
      "\t7.241\tHarry Potter and the Half-Blood Prince was written by J. K. Rowling and published on 16 July 2005. The book is the sixth Harry Potter book.\n",
      "\t1.450\tA prince du sang (prince of the blood) was a member of the extended French Royal Family. This meant that all people except females that were princes of the blood would be entitled to inherit the throne only if every male member of the immediate royal family had died. The main princes of the blood were known as the Prince of Conti and the Prince of Condé as well as the more significant Duke of Orléans. The prince of the blood was entitled to be styled Serene Highness () but it was used in writing only. A majority of the princes of the blood had their own apartments at the Palace of Versailles as well as their own townhouses in Paris\n",
      "\t-0.337\tLouis d'Orléans (4 August 1703 – 4 February 1752) was the Duke of Orléans and a \"prince du sang\". At his father's death, he became the First Prince of the Blood (\"Premier Prince du Sang\"). Known as \"Louis le Pieux\" and also as \"Louis le Génovéfain\", Louis was a pious, charitable and cultured prince, who took very little part in the politics of the time.\n"
     ]
    }
   ],
   "source": [
    "search(query = \"Who is the half-blood prince?\")"
   ],
   "metadata": {
    "collapsed": false,
    "ExecuteTime": {
     "end_time": "2023-09-26T04:15:53.129455Z",
     "start_time": "2023-09-26T04:15:52.790234Z"
    }
   },
   "id": "b78180768aa98c68"
  },
  {
   "cell_type": "code",
   "execution_count": null,
   "outputs": [],
   "source": [],
   "metadata": {
    "collapsed": false
   },
   "id": "3792ca00e54be347"
  }
 ],
 "metadata": {
  "kernelspec": {
   "display_name": "Python 3",
   "language": "python",
   "name": "python3"
  },
  "language_info": {
   "codemirror_mode": {
    "name": "ipython",
    "version": 2
   },
   "file_extension": ".py",
   "mimetype": "text/x-python",
   "name": "python",
   "nbconvert_exporter": "python",
   "pygments_lexer": "ipython2",
   "version": "2.7.6"
  }
 },
 "nbformat": 4,
 "nbformat_minor": 5
}
