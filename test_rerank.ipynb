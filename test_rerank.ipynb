{
 "cells": [
  {
   "cell_type": "code",
   "execution_count": 13,
   "id": "initial_id",
   "metadata": {
    "collapsed": true,
    "ExecuteTime": {
     "end_time": "2023-09-26T11:16:43.888127Z",
     "start_time": "2023-09-26T11:16:32.520698Z"
    }
   },
   "outputs": [
    {
     "name": "stdout",
     "output_type": "stream",
     "text": [
      "Warning: No GPU found. Please add GPU to your notebook\n",
      "Using MPS\n",
      "Passages: 169597\n"
     ]
    },
    {
     "data": {
      "text/plain": "Batches:   0%|          | 0/1325 [00:00<?, ?it/s]",
      "application/vnd.jupyter.widget-view+json": {
       "version_major": 2,
       "version_minor": 0,
       "model_id": "96a12fc3e0b04518b92f4b7e242fd1da"
      }
     },
     "metadata": {},
     "output_type": "display_data"
    },
    {
     "ename": "KeyboardInterrupt",
     "evalue": "",
     "output_type": "error",
     "traceback": [
      "\u001B[0;31m---------------------------------------------------------------------------\u001B[0m",
      "\u001B[0;31mKeyboardInterrupt\u001B[0m                         Traceback (most recent call last)",
      "Cell \u001B[0;32mIn[13], line 38\u001B[0m\n\u001B[1;32m     35\u001B[0m \u001B[38;5;28mprint\u001B[39m(\u001B[38;5;124m\"\u001B[39m\u001B[38;5;124mPassages:\u001B[39m\u001B[38;5;124m\"\u001B[39m, \u001B[38;5;28mlen\u001B[39m(passages))\n\u001B[1;32m     37\u001B[0m \u001B[38;5;66;03m# We encode all passages into our vector space. This takes about 5 minutes (depends on your GPU speed)\u001B[39;00m\n\u001B[0;32m---> 38\u001B[0m corpus_embeddings \u001B[38;5;241m=\u001B[39m \u001B[43mbi_encoder\u001B[49m\u001B[38;5;241;43m.\u001B[39;49m\u001B[43mencode\u001B[49m\u001B[43m(\u001B[49m\u001B[43mpassages\u001B[49m\u001B[43m,\u001B[49m\u001B[43m \u001B[49m\u001B[43mbatch_size\u001B[49m\u001B[38;5;241;43m=\u001B[39;49m\u001B[38;5;241;43m128\u001B[39;49m\u001B[43m,\u001B[49m\u001B[43m \u001B[49m\u001B[43mshow_progress_bar\u001B[49m\u001B[38;5;241;43m=\u001B[39;49m\u001B[38;5;28;43;01mTrue\u001B[39;49;00m\u001B[43m,\u001B[49m\u001B[43m \u001B[49m\u001B[43mdevice\u001B[49m\u001B[38;5;241;43m=\u001B[39;49m\u001B[43mmps_device\u001B[49m\u001B[43m)\u001B[49m\n\u001B[1;32m     40\u001B[0m \u001B[38;5;28mprint\u001B[39m(\u001B[38;5;124m'\u001B[39m\u001B[38;5;124mdone\u001B[39m\u001B[38;5;124m'\u001B[39m)\n",
      "File \u001B[0;32m/opt/homebrew/Caskroom/miniconda/base/envs/agent/lib/python3.10/site-packages/sentence_transformers/SentenceTransformer.py:188\u001B[0m, in \u001B[0;36mSentenceTransformer.encode\u001B[0;34m(self, sentences, batch_size, show_progress_bar, output_value, convert_to_numpy, convert_to_tensor, device, normalize_embeddings)\u001B[0m\n\u001B[1;32m    186\u001B[0m             \u001B[38;5;66;03m# fixes for #522 and #487 to avoid oom problems on gpu with large datasets\u001B[39;00m\n\u001B[1;32m    187\u001B[0m             \u001B[38;5;28;01mif\u001B[39;00m convert_to_numpy:\n\u001B[0;32m--> 188\u001B[0m                 embeddings \u001B[38;5;241m=\u001B[39m \u001B[43membeddings\u001B[49m\u001B[38;5;241;43m.\u001B[39;49m\u001B[43mcpu\u001B[49m\u001B[43m(\u001B[49m\u001B[43m)\u001B[49m\n\u001B[1;32m    190\u001B[0m         all_embeddings\u001B[38;5;241m.\u001B[39mextend(embeddings)\n\u001B[1;32m    192\u001B[0m all_embeddings \u001B[38;5;241m=\u001B[39m [all_embeddings[idx] \u001B[38;5;28;01mfor\u001B[39;00m idx \u001B[38;5;129;01min\u001B[39;00m np\u001B[38;5;241m.\u001B[39margsort(length_sorted_idx)]\n",
      "\u001B[0;31mKeyboardInterrupt\u001B[0m: "
     ]
    }
   ],
   "source": [
    "import json\n",
    "from sentence_transformers import SentenceTransformer, CrossEncoder, util\n",
    "import gzip\n",
    "import os\n",
    "import torch\n",
    "\n",
    "if not torch.cuda.is_available():\n",
    "    print(\"Warning: No GPU found. Please add GPU to your notebook\")\n",
    "if torch.backends.mps.is_available():\n",
    "    mps_device = torch.device(\"mps\")\n",
    "    print(\"Using MPS\")\n",
    "\n",
    "bi_encoder = SentenceTransformer('multi-qa-MiniLM-L6-cos-v1')\n",
    "bi_encoder.max_seq_length = 256     #Truncate long passages to 256 tokens\n",
    "top_k = 32                          #Number of passages we want to retrieve with the bi-encoder\n",
    "\n",
    "cross_encoder = CrossEncoder('cross-encoder/ms-marco-MiniLM-L-6-v2')\n",
    "\n",
    "wikipedia_filepath = './doc_samples/simplewiki-2020-11-01.jsonl.gz'\n",
    "\n",
    "if not os.path.exists(wikipedia_filepath):\n",
    "    util.http_get('http://sbert.net/datasets/simplewiki-2020-11-01.jsonl.gz', wikipedia_filepath)\n",
    "\n",
    "passages = []\n",
    "with gzip.open(wikipedia_filepath, 'rt', encoding='utf8') as fIn:\n",
    "    for line in fIn:\n",
    "        data = json.loads(line.strip())\n",
    "\n",
    "        #Add all paragraphs\n",
    "        #passages.extend(data['paragraphs'])\n",
    "\n",
    "        #Only add the first paragraph\n",
    "        passages.append(data['paragraphs'][0])\n",
    "\n",
    "print(\"Passages:\", len(passages))\n",
    "\n",
    "# We encode all passages into our vector space. This takes about 5 minutes (depends on your GPU speed)\n",
    "corpus_embeddings = bi_encoder.encode(passages, batch_size=128, show_progress_bar=True, device=mps_device)\n",
    "\n",
    "print('done')"
   ]
  },
  {
   "cell_type": "code",
   "execution_count": 2,
   "outputs": [
    {
     "data": {
      "text/plain": "  0%|          | 0/169597 [00:00<?, ?it/s]",
      "application/vnd.jupyter.widget-view+json": {
       "version_major": 2,
       "version_minor": 0,
       "model_id": "479b8498635a48248b2c29dfd7d21f15"
      }
     },
     "metadata": {},
     "output_type": "display_data"
    }
   ],
   "source": [
    "# We also compare the results to lexical search (keyword search). Here, we use\n",
    "# the BM25 algorithm which is implemented in the rank_bm25 package.\n",
    "\n",
    "from rank_bm25 import BM25Okapi\n",
    "from sklearn.feature_extraction import _stop_words\n",
    "import string\n",
    "from tqdm.autonotebook import tqdm\n",
    "import numpy as np\n",
    "\n",
    "\n",
    "# We lower case our text and remove stop-words from indexing\n",
    "def bm25_tokenizer(text):\n",
    "    tokenized_doc = []\n",
    "    for token in text.lower().split():\n",
    "        token = token.strip(string.punctuation)\n",
    "        if len(token) > 0 and token not in _stop_words.ENGLISH_STOP_WORDS:\n",
    "            tokenized_doc.append(token)\n",
    "    return tokenized_doc\n",
    "\n",
    "\n",
    "tokenized_corpus = []\n",
    "for passage in tqdm(passages):\n",
    "    tokenized_corpus.append(bm25_tokenizer(passage))\n",
    "\n",
    "bm25 = BM25Okapi(tokenized_corpus)"
   ],
   "metadata": {
    "collapsed": false,
    "ExecuteTime": {
     "end_time": "2023-09-26T04:13:39.236727Z",
     "start_time": "2023-09-26T04:13:36.861943Z"
    }
   },
   "id": "12e98945d807f848"
  },
  {
   "cell_type": "code",
   "execution_count": 7,
   "outputs": [],
   "source": [
    "# This function will search all wikipedia articles for passages that\n",
    "# answer the query\n",
    "def search(query):\n",
    "    print(\"Input question:\", query)\n",
    "\n",
    "    ##### BM25 search (lexical search) #####\n",
    "    bm25_scores = bm25.get_scores(bm25_tokenizer(query))\n",
    "    top_n = np.argpartition(bm25_scores, -5)[-5:]\n",
    "    bm25_hits = [{'corpus_id': idx, 'score': bm25_scores[idx]} for idx in top_n]\n",
    "    bm25_hits = sorted(bm25_hits, key=lambda x: x['score'], reverse=True)\n",
    "    \n",
    "    print(\"Top-3 lexical search (BM25) hits\")\n",
    "    for hit in bm25_hits[0:3]:\n",
    "        print(\"\\t{:.3f}\\t{}\".format(hit['score'], passages[hit['corpus_id']].replace(\"\\n\", \" \")))\n",
    "\n",
    "    ##### Sematic Search #####\n",
    "    # Encode the query using the bi-encoder and find potentially relevant passages\n",
    "    question_embedding = bi_encoder.encode(query, device=mps_device)\n",
    "    hits = util.semantic_search(question_embedding, corpus_embeddings, top_k=top_k)\n",
    "    hits = hits[0]  # Get the hits for the first query\n",
    "\n",
    "    ##### Re-Ranking #####\n",
    "    # Now, score all retrieved passages with the cross_encoder\n",
    "    cross_inp = [[query, passages[hit['corpus_id']]] for hit in hits]\n",
    "    cross_scores = cross_encoder.predict(cross_inp)\n",
    "\n",
    "    # Sort results by the cross-encoder scores\n",
    "    for idx in range(len(cross_scores)):\n",
    "        hits[idx]['cross-score'] = cross_scores[idx]\n",
    "\n",
    "    # Output of top-5 hits from bi-encoder\n",
    "    print(\"\\n-------------------------\\n\")\n",
    "    print(\"Top-3 Bi-Encoder Retrieval hits\")\n",
    "    hits = sorted(hits, key=lambda x: x['score'], reverse=True)\n",
    "    for hit in hits[0:3]:\n",
    "        print(\"\\t{:.3f}\\t{}\".format(hit['score'], passages[hit['corpus_id']].replace(\"\\n\", \" \")))\n",
    "\n",
    "    # Output of top-5 hits from re-ranker\n",
    "    print(\"\\n-------------------------\\n\")\n",
    "    print(\"Top-3 Cross-Encoder Re-ranker hits\")\n",
    "    hits = sorted(hits, key=lambda x: x['cross-score'], reverse=True)\n",
    "    for hit in hits[0:3]:\n",
    "        print(\"\\t{:.3f}\\t{}\".format(hit['cross-score'], passages[hit['corpus_id']].replace(\"\\n\", \" \")))\n"
   ],
   "metadata": {
    "collapsed": false,
    "ExecuteTime": {
     "end_time": "2023-09-26T04:15:52.627398Z",
     "start_time": "2023-09-26T04:15:52.615374Z"
    }
   },
   "id": "ddd2108c1a6dfb"
  },
  {
   "cell_type": "code",
   "execution_count": 8,
   "outputs": [
    {
     "name": "stdout",
     "output_type": "stream",
     "text": [
      "Input question: Who is the half-blood prince?\n",
      "Top-3 lexical search (BM25) hits\n",
      "\t17.182\tHarry Potter and the Half-Blood Prince was written by J. K. Rowling and published on 16 July 2005. The book is the sixth Harry Potter book.\n",
      "\t12.445\tFrank Stephenson Dillane (born 21 April 1991) is an English actor. He is known for his role as Nick Clark in the AMC series \"Fear the Walking Dead\" (2015–2018). His movie roles include Tom Riddle in \"Harry Potter and the Half-Blood Prince\" (2009) and Owen Coffin in \"In the Heart of the Sea\" (2015).\n",
      "\t11.512\tThomas Andrew \"Tom\" Felton (born 22 September 1987) is an English actor and singer. Felton was born in Epsom, Surrey. He is best known for portraying the character Draco Malfoy in the Harry Potter movie series. Felton has also won a MTV Movie Award for \"Best Villain\" in the film version of Harry Potter and the Half-Blood Prince in 2010.\n",
      "\n",
      "-------------------------\n",
      "\n",
      "Top-3 Bi-Encoder Retrieval hits\n",
      "\t0.548\tPrince Daniel of Sweden, Duke of Västergötland (born Olof Daniel Westling on 15 September 1973), is the husband of Crown Princess Victoria. He was a personal trainer and gym owner and ran a company called Balance Training with three gyms in central Stockholm.\n",
      "\t0.536\tBhisadej Rajani (; ; born 20 January 1922) is a Prince of Thailand. He is a member of the Thai royal family, and a member of the House of Rajani. He is one of the longest-living royal personages in the Thai history.\n",
      "\t0.535\tA prince du sang (prince of the blood) was a member of the extended French Royal Family. This meant that all people except females that were princes of the blood would be entitled to inherit the throne only if every male member of the immediate royal family had died. The main princes of the blood were known as the Prince of Conti and the Prince of Condé as well as the more significant Duke of Orléans. The prince of the blood was entitled to be styled Serene Highness () but it was used in writing only. A majority of the princes of the blood had their own apartments at the Palace of Versailles as well as their own townhouses in Paris\n",
      "\n",
      "-------------------------\n",
      "\n",
      "Top-3 Cross-Encoder Re-ranker hits\n",
      "\t7.241\tHarry Potter and the Half-Blood Prince was written by J. K. Rowling and published on 16 July 2005. The book is the sixth Harry Potter book.\n",
      "\t1.450\tA prince du sang (prince of the blood) was a member of the extended French Royal Family. This meant that all people except females that were princes of the blood would be entitled to inherit the throne only if every male member of the immediate royal family had died. The main princes of the blood were known as the Prince of Conti and the Prince of Condé as well as the more significant Duke of Orléans. The prince of the blood was entitled to be styled Serene Highness () but it was used in writing only. A majority of the princes of the blood had their own apartments at the Palace of Versailles as well as their own townhouses in Paris\n",
      "\t-0.337\tLouis d'Orléans (4 August 1703 – 4 February 1752) was the Duke of Orléans and a \"prince du sang\". At his father's death, he became the First Prince of the Blood (\"Premier Prince du Sang\"). Known as \"Louis le Pieux\" and also as \"Louis le Génovéfain\", Louis was a pious, charitable and cultured prince, who took very little part in the politics of the time.\n"
     ]
    }
   ],
   "source": [
    "search(query = \"Who is the half-blood prince?\")"
   ],
   "metadata": {
    "collapsed": false,
    "ExecuteTime": {
     "end_time": "2023-09-26T04:15:53.129455Z",
     "start_time": "2023-09-26T04:15:52.790234Z"
    }
   },
   "id": "b78180768aa98c68"
  },
  {
   "cell_type": "code",
   "execution_count": 10,
   "outputs": [
    {
     "name": "stdout",
     "output_type": "stream",
     "text": [
      "Input question: When was Peru liberated from the Spanish\n",
      "Top-3 lexical search (BM25) hits\n",
      "\t14.040\tJosé de San Martín (1778 - 1850) was an Argentine general and politician. He was born in Yapeyú, Corrientes, Argentina. He liberated Argentina, Peru and Chile from Spain. In 1817, he crossed the Andes from Mendoza to Chile. Together with Simón Bolívar, San Martín is called one of the Liberators of South America.\n",
      "\t13.955\tThe Viceroyalty of Peru (in Spanish, \"Virreinato del Perú\") was a Spanish colonial administrative district that was created in 1542 and originally contained most of Spanish-ruled South America. It was governed from the capital of Lima.\n",
      "\t13.129\tSimón Bolívar (1783 - 1830) was a Venezuelan military and political leader. He was born in Caracas, Venezuela. He liberated many countries from Spain in South America. Those countries included Venezuela, Colombia, Ecuador, Peru, and Bolivia. For a few years he was president of Gran Colombia, a country that no longer exists. The country Bolivia is named after Bolívar.\n",
      "\n",
      "-------------------------\n",
      "\n",
      "Top-3 Bi-Encoder Retrieval hits\n",
      "\t0.634\tThe Viceroyalty of Peru (in Spanish, \"Virreinato del Perú\") was a Spanish colonial administrative district that was created in 1542 and originally contained most of Spanish-ruled South America. It was governed from the capital of Lima.\n",
      "\t0.618\tArmando Villanueva Del Campo (25 November 1915 – 14 April 2013) was a Peruvian politician. He was the leader of the Peruvian American Popular Revolutionary Alliance. Villanueva was born in Lima. He was the Prime Minister of Peru from 17 May 1988 through 15 May 1989 during Alan García's first presidency.\n",
      "\t0.590\tFrancisco Pizarro González, Marqués de los Atabillos (1471– June 26, 1541) was a Spanish conquistador. Today, he is known as the conqueror of the Inca Empire. He also founded Lima, La Ciudad de los Reyes, capital of Peru. Pizarro was born in Trujillo, Extremadura, Spain.\n",
      "\n",
      "-------------------------\n",
      "\n",
      "Top-3 Cross-Encoder Re-ranker hits\n",
      "\t5.561\tThe Viceroyalty of Peru (in Spanish, \"Virreinato del Perú\") was a Spanish colonial administrative district that was created in 1542 and originally contained most of Spanish-ruled South America. It was governed from the capital of Lima.\n",
      "\t1.737\tFrancisco Pizarro González, Marqués de los Atabillos (1471– June 26, 1541) was a Spanish conquistador. Today, he is known as the conqueror of the Inca Empire. He also founded Lima, La Ciudad de los Reyes, capital of Peru. Pizarro was born in Trujillo, Extremadura, Spain.\n",
      "\t-1.588\tBetween 1519 and 1521, Spanish conquistadors, led by Hernán Cortés, overthrew the Aztec Empire. This event is called the Spanish conquest of the Aztec Empire. Cortés helped old enemies of the Aztecs defeat them in one of the most important events in the Spanish colonization of the Americas.\n"
     ]
    }
   ],
   "source": [
    "search(query=\"When was Peru liberated from the Spanish\")"
   ],
   "metadata": {
    "collapsed": false,
    "ExecuteTime": {
     "end_time": "2023-09-26T04:17:50.537121Z",
     "start_time": "2023-09-26T04:17:50.212166Z"
    }
   },
   "id": "3792ca00e54be347"
  },
  {
   "cell_type": "code",
   "execution_count": 11,
   "outputs": [
    {
     "name": "stdout",
     "output_type": "stream",
     "text": [
      "Input question: who wrote the hobbit?\n",
      "Top-3 lexical search (BM25) hits\n",
      "\t17.233\tThe Hobbit is a three-part fantasy movie. These parts are \"The Hobbit: An Unexpected Journey\" (2012), \"The Hobbit: The Desolation of Smaug\" (2013) and \"The Hobbit: The Battle of the Five Armies\" (2014). The movies are based on J. R. R. Tolkien's book \"The Hobbit\".\n",
      "\t15.883\tThe Hobbit: An Unexpected Journey is a 2012 epic fantasy and adventure movie. It is the first part of the Hobbit trilogy.\n",
      "\t13.941\tThe Hobbit, or There and Back Again, is a book written by J. R. R. Tolkien. It was first published on September 21, 1937. Tolkien wrote it in the 1930s for his children as a bedtime story. The story takes place before \"The Lord of the Rings\".\n",
      "\n",
      "-------------------------\n",
      "\n",
      "Top-3 Bi-Encoder Retrieval hits\n",
      "\t0.698\tThe Hobbit, or There and Back Again, is a book written by J. R. R. Tolkien. It was first published on September 21, 1937. Tolkien wrote it in the 1930s for his children as a bedtime story. The story takes place before \"The Lord of the Rings\".\n",
      "\t0.657\tJohn Ronald Reuel Tolkien (3 January 1892 – 2 September 1973) was a British philologist, university professor, and writer. Tolkien is best known for his most famous works, \"The Hobbit\" and \"The Lord of the Rings\".\n",
      "\t0.618\tHobbits are a fictional race in the Middle-earth world invented by J. R. R. Tolkien, also often called \"halflings\".\n",
      "\n",
      "-------------------------\n",
      "\n",
      "Top-3 Cross-Encoder Re-ranker hits\n",
      "\t10.855\tThe Hobbit, or There and Back Again, is a book written by J. R. R. Tolkien. It was first published on September 21, 1937. Tolkien wrote it in the 1930s for his children as a bedtime story. The story takes place before \"The Lord of the Rings\".\n",
      "\t8.025\tJohn Ronald Reuel Tolkien (3 January 1892 – 2 September 1973) was a British philologist, university professor, and writer. Tolkien is best known for his most famous works, \"The Hobbit\" and \"The Lord of the Rings\".\n",
      "\t7.250\tHobbits are a fictional race in the Middle-earth world invented by J. R. R. Tolkien, also often called \"halflings\".\n"
     ]
    }
   ],
   "source": [
    "search(query=\"who wrote the hobbit?\")"
   ],
   "metadata": {
    "collapsed": false,
    "ExecuteTime": {
     "end_time": "2023-09-26T04:18:36.256533Z",
     "start_time": "2023-09-26T04:18:35.899770Z"
    }
   },
   "id": "212e40c43906d190"
  },
  {
   "cell_type": "code",
   "execution_count": 12,
   "outputs": [
    {
     "name": "stdout",
     "output_type": "stream",
     "text": [
      "Input question: Who is Snape?\n",
      "Top-3 lexical search (BM25) hits\n",
      "\t16.830\tSnape is a village and civil parish in Suffolk Coastal, Suffolk, England. In 2001 there were 623 people living in Snape.\n",
      "\t13.581\tSeverus Snape is a character from J.K. Rowling's fictional book series Harry Potter.\n",
      "\t10.051\tSnape Maltings is a group of buildings including a famous concert hall in the village of Snape, Suffolk. Many concerts are given in the Maltings. Every year the Aldeburgh Festival has many of its concerts there. The composer Benjamin Britten used to live in Aldeburgh with the singer Peter Pears. They started a music school for young people. The Britten-Pears Foundation still continues today, with many concerts based in the Maltings. This foundation gives young musicians a chance to learn from famous music teachers and perform at concerts. Many of them have recently graduated from a music college.\n",
      "\n",
      "-------------------------\n",
      "\n",
      "Top-3 Bi-Encoder Retrieval hits\n",
      "\t0.685\tSeverus Snape is a character from J.K. Rowling's fictional book series Harry Potter.\n",
      "\t0.678\tSnape is a village and civil parish in Suffolk Coastal, Suffolk, England. In 2001 there were 623 people living in Snape.\n",
      "\t0.644\tSnap! is an electronic music group created by German producers Michael Münzing and Luca Anzilotti.\n",
      "\n",
      "-------------------------\n",
      "\n",
      "Top-3 Cross-Encoder Re-ranker hits\n",
      "\t8.724\tSeverus Snape is a character from J.K. Rowling's fictional book series Harry Potter.\n",
      "\t8.609\tSnape is a village and civil parish in Suffolk Coastal, Suffolk, England. In 2001 there were 623 people living in Snape.\n",
      "\t5.201\tSnap! is an electronic music group created by German producers Michael Münzing and Luca Anzilotti.\n"
     ]
    }
   ],
   "source": [
    "search(query=\"Who is Snape?\")"
   ],
   "metadata": {
    "collapsed": false,
    "ExecuteTime": {
     "end_time": "2023-09-26T04:19:26.735583Z",
     "start_time": "2023-09-26T04:19:26.104658Z"
    }
   },
   "id": "b389041eb2efef8b"
  },
  {
   "cell_type": "code",
   "execution_count": null,
   "outputs": [],
   "source": [],
   "metadata": {
    "collapsed": false
   },
   "id": "b8a396f12769c83f"
  }
 ],
 "metadata": {
  "kernelspec": {
   "display_name": "Python 3",
   "language": "python",
   "name": "python3"
  },
  "language_info": {
   "codemirror_mode": {
    "name": "ipython",
    "version": 2
   },
   "file_extension": ".py",
   "mimetype": "text/x-python",
   "name": "python",
   "nbconvert_exporter": "python",
   "pygments_lexer": "ipython2",
   "version": "2.7.6"
  }
 },
 "nbformat": 4,
 "nbformat_minor": 5
}
